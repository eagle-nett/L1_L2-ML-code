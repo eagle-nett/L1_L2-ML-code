{
 "cells": [
  {
   "cell_type": "markdown",
   "id": "b6393aff-980c-4efd-aad8-c7c54c01eea2",
   "metadata": {},
   "source": [
    "## Bài toán\n",
    "    Dữ liệu gồm n văn bản phân vào 10 chủ đề khác nhau. Cần biễu diễn mỗi văn bản dưới dạng một vector số thể hiện cho nội dụng của văn bản đó."
   ]
  },
  {
   "cell_type": "markdown",
   "id": "d0f32541-eaed-4a0a-a4a3-8bc1779edd62",
   "metadata": {},
   "source": [
    "## Bài Làm\n",
    "### Lý Tiến Đạt"
   ]
  },
  {
   "cell_type": "code",
   "execution_count": 11,
   "id": "678b6f1c-5cff-46a9-b276-f766b63ce2dc",
   "metadata": {},
   "outputs": [],
   "source": [
    "# Thư viện\n",
    "import os\n",
    "import numpy as np\n",
    "import matplotlib.pyplot as plt\n",
    "from sklearn.feature_extraction.text import CountVectorizer, TfidfTransformer\n",
    "from sklearn.pipeline import Pipeline\n",
    "from sklearn.datasets import load_files"
   ]
  },
  {
   "cell_type": "code",
   "execution_count": 12,
   "id": "717fb283-f7b3-458c-9944-0bdf4c9a5de6",
   "metadata": {},
   "outputs": [],
   "source": [
    "# Thiết lập thư mục chứa dữ liệu\n",
    "INPUT = 'data/news_vnexpress'  # Đường dẫn tới thư mục chứa dữ liệu\n",
    "STOPWORDS_FILE = \"data/vietnamese-stopwords.txt\"  # Đường dẫn tới stopwords"
   ]
  },
  {
   "cell_type": "code",
   "execution_count": 18,
   "id": "d2fdbe3e-613a-422e-bc89-1a7dde2567f4",
   "metadata": {},
   "outputs": [],
   "source": [
    "# 1. Đọc dữ liệu từ thư mục\n",
    "data_train = load_files(container_path=INPUT, encoding=\"utf-8\")\n"
   ]
  },
  {
   "cell_type": "code",
   "execution_count": 16,
   "id": "d9cdf354-897e-41a9-a9f0-5a0fd2812777",
   "metadata": {},
   "outputs": [
    {
     "name": "stdout",
     "output_type": "stream",
     "text": [
      "Thông tin dữ liệu:\n",
      "------------------------------------------\n",
      "doi-song: 120\n",
      "du-lich: 54\n",
      "giai-tri: 201\n",
      "giao-duc: 105\n",
      "khoa-hoc: 144\n",
      "kinh-doanh: 262\n",
      "phap-luat: 59\n",
      "suc-khoe: 162\n",
      "the-thao: 173\n",
      "thoi-su: 59\n",
      "-------------------------\n",
      "Tổng số văn bản: 1339\n",
      "-------------------------\n"
     ]
    }
   ],
   "source": [
    "# Hiển thị thông tin cơ bản về dữ liệu\n",
    "print(\"Thông tin dữ liệu:\")\n",
    "print('------------------------------------------')\n",
    "n = 0\n",
    "for label in os.listdir(INPUT):\n",
    "    print(f'{label}: {len(os.listdir(os.path.join(INPUT, label)))}')\n",
    "    n += len(os.listdir(os.path.join(INPUT, label)))\n",
    "\n",
    "print('-------------------------')\n",
    "print(f\"Tổng số văn bản: {n}\")\n",
    "print('-------------------------')"
   ]
  },
  {
   "cell_type": "code",
   "execution_count": 23,
   "id": "d025d23b-171d-43d5-ac85-9a1abc5b4514",
   "metadata": {},
   "outputs": [
    {
     "name": "stdout",
     "output_type": "stream",
     "text": [
      "Số lượng stopwords: 2063\n",
      "Một số stopwords mẫu: ['a_lô', 'a_ha', 'ai', 'ai_ai', 'ai_nấy', 'ai_đó', 'alô', 'amen', 'anh', 'anh_ấy']\n"
     ]
    }
   ],
   "source": [
    "# 2. Xử lý stopwords\n",
    "with open(STOPWORDS_FILE, encoding=\"utf-8\") as f:\n",
    "    stopwords = f.readlines()\n",
    "\n",
    "stopwords = [x.strip().replace(\" \", \"_\") for x in stopwords]\n",
    "print(f\"Số lượng stopwords: {len(stopwords)}\")\n",
    "print(\"Một số stopwords mẫu:\", stopwords[:10])"
   ]
  },
  {
   "cell_type": "code",
   "execution_count": 32,
   "id": "466a05b2-0421-47da-ab2e-869995d66cda",
   "metadata": {},
   "outputs": [],
   "source": [
    "# 3. Xử lý văn bản và chuyển đổi thành vector TF-IDF\n",
    "module_count_vector = CountVectorizer(stop_words=stopwords)\n",
    "\n",
    "model_rf_preprocess = Pipeline([\n",
    "    ('vect', module_count_vector),\n",
    "    ('tfidf', TfidfTransformer())\n",
    "])"
   ]
  },
  {
   "cell_type": "code",
   "execution_count": 36,
   "id": "71106219-05d1-4380-bbb9-6deb2dec69fe",
   "metadata": {},
   "outputs": [
    {
     "name": "stdout",
     "output_type": "stream",
     "text": [
      "\n",
      "Số lượng từ trong từ điển: 12796\n",
      "Kích thước dữ liệu sau khi xử lý: (1339, 12796)\n"
     ]
    }
   ],
   "source": [
    "# Chuyển dữ liệu văn bản thành ma trận TF-IDF\n",
    "data_preprocessed = model_rf_preprocess.fit_transform(data_train.data, data_train.target)\n",
    "print(f\"\\nSố lượng từ trong từ điển: {len(module_count_vector.vocabulary_)}\")\n",
    "print(f\"Kích thước dữ liệu sau khi xử lý: {data_preprocessed.shape}\")\n",
    "\n",
    "# Lưu dữ liệu sau khi tiền xử lý\n",
    "X = data_preprocessed\n",
    "Y = data_train.target"
   ]
  },
  {
   "cell_type": "code",
   "execution_count": 71,
   "id": "7b9fab35-63e9-44e3-b815-c6105e92aac2",
   "metadata": {},
   "outputs": [],
   "source": [
    "# 4. Trực quan hóa kết quả\n",
    "def plot_tfidf_matrix(matrix, feature_names, n_top_features=10):\n",
    "    \"\"\"Trực quan hóa ma trận TF-IDF: Hiển thị n từ quan trọng nhất trong văn bản.\"\"\"\n",
    "    # Tính trung bình TF-IDF của tất cả các văn bản\n",
    "    tfidf_mean = np.mean(matrix.toarray(), axis=0)  # Sử dụng .toarray() để chuyển đổi ma trận sparse thành array\n",
    "\n",
    "    # Lấy n từ có giá trị TF-IDF cao nhất\n",
    "    top_indices = np.argsort(tfidf_mean)[::-1][:n_top_features]\n",
    "    top_terms = np.array(feature_names)[top_indices]\n",
    "    top_tfidf = tfidf_mean[top_indices]\n",
    "\n",
    "    # Vẽ đồ thị\n",
    "    plt.figure(figsize=(10, 6))\n",
    "    plt.barh(top_terms, top_tfidf, color='orange')\n",
    "    plt.xlabel('Giá trị TF-IDF trung bình')\n",
    "    plt.title(f'Top {n_top_features} từ xuất hiện nhiều nhất trong văn bản')\n",
    "    plt.gca().invert_yaxis()\n",
    "    plt.show()"
   ]
  },
  {
   "cell_type": "code",
   "execution_count": 72,
   "id": "58584bb9-beb6-4663-92ff-dec77e97661f",
   "metadata": {},
   "outputs": [
    {
     "data": {
      "image/png": "[encoded data removed]",
      "text/plain": [
       "<Figure size 1000x600 with 1 Axes>"
      ]
     },
     "metadata": {},
     "output_type": "display_data"
    }
   ],
   "source": [
    "# Trực quan hóa các từ quan trọng nhất theo TF-IDF\n",
    "plot_tfidf_matrix(X, module_count_vector.get_feature_names_out(), n_top_features=10)"
   ]
  },
  {
   "cell_type": "code",
   "execution_count": 73,
   "id": "fda6bd2d-55a4-42a8-9b3a-93a82dfe1862",
   "metadata": {},
   "outputs": [
    {
     "name": "stdout",
     "output_type": "stream",
     "text": [
      "\n",
      "Vector của văn bản thứ 100:\n",
      "[[0.         0.         0.         ... 0.         0.14048828 0.        ]]\n",
      "Chủ đề của văn bản thứ 100: 5\n"
     ]
    }
   ],
   "source": [
    "# Kiểm tra vector của một văn bản cụ thể\n",
    "sample_index = 100\n",
    "print(f\"\\nVector của văn bản thứ {sample_index}:\")\n",
    "print(X[sample_index].toarray())\n",
    "\n",
    "print(f\"Chủ đề của văn bản thứ {sample_index}: {Y[sample_index]}\")"
   ]
  },
  {
   "cell_type": "markdown",
   "id": "4c5e4113-b1c3-471c-abe6-b187adfd5706",
   "metadata": {},
   "source": [
    "# GIẢI THÍCH CHI TIẾT:\n",
    "\n",
    "## 1. Mô tả bài toán:\n",
    "\n",
    "Dữ liệu gồm một tập hợp các văn bản được phân vào 10 chủ đề khác nhau. Mỗi văn bản chứa thông tin cần được mã hóa thành một vector số để có thể sử dụng trong các thuật toán học máy. Mục tiêu là biểu diễn mỗi văn bản dưới dạng một vector số thể hiện nội dung của văn bản đó. Việc này giúp chúng ta có thể áp dụng các phương pháp phân loại (classification) để dự đoán chủ đề của một văn bản mới.\n",
    "\n",
    "## 2. Quá trình xây dựng:\n",
    "### a. Đọc và tiền xử lý dữ liệu\n",
    "Trước khi thực hiện việc mã hóa văn bản thành các vector số, chúng ta cần đọc và tiền xử lý dữ liệu:\n",
    "\n",
    "    + Đọc dữ liệu: Dữ liệu được lưu trữ trong các tệp văn bản có cấu trúc thư mục. Mỗi thư mục con đại diện cho một chủ đề, và mỗi tệp văn bản trong đó là một bài báo thuộc chủ đề đó.\n",
    "    + Xử lý stopwords: Stopwords là các từ không mang nhiều ý nghĩa trong văn bản như \"và\", \"của\", \"theo\", \"là\", v.v. Việc loại bỏ các từ này giúp giảm độ phức tạp và tập trung vào những từ quan trọng.\n",
    "### b. Biểu diễn văn bản bằng TF-IDF\n",
    "Một phương pháp phổ biến để chuyển đổi văn bản thành các vector số là TF-IDF (Term Frequency - Inverse Document Frequency). Phương pháp này giúp xác định tầm quan trọng của một từ trong một văn bản so với toàn bộ tập dữ liệu.\n",
    "\n",
    "    + TF (Term Frequency): Tần suất xuất hiện của từ trong văn bản. Nó đo lường mức độ xuất hiện của từ trong một văn bản cụ thể.\n",
    "    + IDF (Inverse Document Frequency): Đo lường tầm quan trọng của từ trong toàn bộ tập dữ liệu. Nếu một từ xuất hiện trong nhiều văn bản, giá trị IDF sẽ nhỏ, vì nó không có giá trị phân biệt giữa các văn bản.\n",
    "#### Công thức tính TF-IDF:\n",
    "\n",
    "                                                tf-idf(t,d)=tf(t,d)×idf(t)\n",
    "Trong đó:\n",
    "\n",
    "    tf(t,d)= ft/∣d∣, là tần suất 𝑡 trong văn bản d.\n",
    "    idf(t)=log n/ni, trong đó 𝑛 là tổng số văn bản trong tập dữ liệu, và 𝑛𝑡 là số văn bản chứa từ 𝑡.\n",
    "Kết quả là mỗi văn bản được mã hóa thành một vector, trong đó mỗi thành phần tương ứng với giá trị TF-IDF của một từ trong từ điển.\n",
    "\n",
    "### c. Mô hình học máy\n",
    "Sau khi có được các vector TF-IDF, ta có thể sử dụng chúng làm đầu vào cho các mô hình học máy để phân loại văn bản. Trong bài toán này, chúng ta chưa áp dụng mô hình học máy cụ thể, nhưng có thể sử dụng các mô hình phân loại như Random Forest, Naive Bayes, hay SVM để dự đoán chủ đề của một văn bản mới.\n",
    "\n",
    "### d. Trực quan hóa dữ liệu\n",
    "Để hiểu rõ hơn về các từ quan trọng trong dữ liệu, ta thực hiện trực quan hóa các từ có giá trị TF-IDF cao nhất. Việc này giúp nhận diện những từ quan trọng nhất đối với mô hình và đánh giá tính chất của dữ liệu.\n",
    "\n",
    "### e. Kiểm tra vector của một văn bản cụ thể\n",
    "Cuối cùng, chúng ta kiểm tra cách một văn bản cụ thể được mã hóa thành vector số. Điều này giúp xác nhận rằng quá trình chuyển đổi từ văn bản sang vector đã được thực hiện đúng đắn."
   ]
  },
  {
   "cell_type": "markdown",
   "id": "cba67ae4-5e41-4180-aa29-66e343f3abd8",
   "metadata": {},
   "source": [
    "------------------------------------------------------------------------------------------------------------\n",
    "# Final"
   ]
  },
  {
   "cell_type": "code",
   "execution_count": 2,
   "id": "cff4b744-de5a-4fc8-9676-ed28cce27f85",
   "metadata": {},
   "outputs": [
    {
     "name": "stdout",
     "output_type": "stream",
     "text": [
      "Thông tin dữ liệu:\n",
      "------------------------------------------\n",
      "doi-song: 120\n",
      "du-lich: 54\n",
      "giai-tri: 201\n",
      "giao-duc: 105\n",
      "khoa-hoc: 144\n",
      "kinh-doanh: 262\n",
      "phap-luat: 59\n",
      "suc-khoe: 162\n",
      "the-thao: 173\n",
      "thoi-su: 59\n",
      "-------------------------\n",
      "Tổng số văn bản: 1339\n",
      "-------------------------\n",
      "Số lượng stopwords: 2063\n",
      "Một số stopwords mẫu: ['a_lô', 'a_ha', 'ai', 'ai_ai', 'ai_nấy', 'ai_đó', 'alô', 'amen', 'anh', 'anh_ấy']\n",
      "\n",
      "Số lượng từ trong từ điển: 12796\n",
      "Kích thước dữ liệu sau khi xử lý: (1339, 12796)\n"
     ]
    },
    {
     "data": {
      "image/png": "[encoded data removed]",
      "text/plain": [
       "<Figure size 1000x600 with 1 Axes>"
      ]
     },
     "metadata": {},
     "output_type": "display_data"
    },
    {
     "name": "stdout",
     "output_type": "stream",
     "text": [
      "\n",
      "Vector của văn bản thứ 100:\n",
      "[[0.         0.         0.         ... 0.         0.14048828 0.        ]]\n",
      "Chủ đề của văn bản thứ 100: 5\n"
     ]
    }
   ],
   "source": [
    "import os\n",
    "import numpy as np\n",
    "import matplotlib.pyplot as plt\n",
    "from sklearn.feature_extraction.text import CountVectorizer, TfidfTransformer\n",
    "from sklearn.pipeline import Pipeline\n",
    "from sklearn.datasets import load_files\n",
    "\n",
    "# Thiết lập thư mục chứa dữ liệu\n",
    "INPUT = 'data/news_vnexpress'  # Đường dẫn tới thư mục chứa dữ liệu\n",
    "STOPWORDS_FILE = \"data/vietnamese-stopwords.txt\"  # Đường dẫn tới stopwords\n",
    "\n",
    "# 1. Đọc dữ liệu từ thư mục\n",
    "data_train = load_files(container_path=INPUT, encoding=\"utf-8\")\n",
    "\n",
    "# Hiển thị thông tin cơ bản về dữ liệu\n",
    "print(\"Thông tin dữ liệu:\")\n",
    "print('------------------------------------------')\n",
    "n = 0\n",
    "for label in os.listdir(INPUT):\n",
    "    print(f'{label}: {len(os.listdir(os.path.join(INPUT, label)))}')\n",
    "    n += len(os.listdir(os.path.join(INPUT, label)))\n",
    "\n",
    "print('-------------------------')\n",
    "print(f\"Tổng số văn bản: {n}\")\n",
    "print('-------------------------')\n",
    "\n",
    "# 2. Xử lý stopwords\n",
    "with open(STOPWORDS_FILE, encoding=\"utf-8\") as f:\n",
    "    stopwords = f.readlines()\n",
    "\n",
    "stopwords = [x.strip().replace(\" \", \"_\") for x in stopwords]\n",
    "print(f\"Số lượng stopwords: {len(stopwords)}\")\n",
    "print(\"Một số stopwords mẫu:\", stopwords[:10])\n",
    "\n",
    "# 3. Xử lý văn bản và chuyển đổi thành vector TF-IDF\n",
    "module_count_vector = CountVectorizer(stop_words=stopwords)\n",
    "\n",
    "model_rf_preprocess = Pipeline([\n",
    "    ('vect', module_count_vector),\n",
    "    ('tfidf', TfidfTransformer())\n",
    "])\n",
    "\n",
    "# Chuyển dữ liệu văn bản thành ma trận TF-IDF\n",
    "data_preprocessed = model_rf_preprocess.fit_transform(data_train.data, data_train.target)\n",
    "\n",
    "print(f\"\\nSố lượng từ trong từ điển: {len(module_count_vector.vocabulary_)}\")\n",
    "print(f\"Kích thước dữ liệu sau khi xử lý: {data_preprocessed.shape}\")\n",
    "\n",
    "# Lưu dữ liệu sau khi tiền xử lý\n",
    "X = data_preprocessed\n",
    "Y = data_train.target\n",
    "\n",
    "# 4. Trực quan hóa kết quả\n",
    "def plot_tfidf_matrix(matrix, feature_names, n_top_features=10):\n",
    "    \"\"\"Trực quan hóa ma trận TF-IDF: Hiển thị n từ quan trọng nhất trong văn bản.\"\"\"\n",
    "    # Chuyển ma trận sparse thành array\n",
    "    matrix_array = matrix.toarray()  # Chuyển đổi thành mảng numpy\n",
    "    \n",
    "    # Tính trung bình TF-IDF của tất cả các văn bản\n",
    "    tfidf_mean = np.mean(matrix_array, axis=0)  # Tính trung bình trên tất cả các văn bản\n",
    "\n",
    "    # Lấy n từ có giá trị TF-IDF cao nhất\n",
    "    top_indices = np.argsort(tfidf_mean)[::-1][:n_top_features]\n",
    "    top_terms = np.array(feature_names)[top_indices]\n",
    "    top_tfidf = tfidf_mean[top_indices]\n",
    "\n",
    "    # Vẽ đồ thị\n",
    "    plt.figure(figsize=(10, 6))\n",
    "    plt.barh(top_terms, top_tfidf, color='red')\n",
    "    plt.xlabel('Average TF-IDF Value')\n",
    "    plt.title(f'Top {n_top_features} Words by TF-IDF')\n",
    "    plt.gca().invert_yaxis()\n",
    "    plt.show()\n",
    "\n",
    "# Trực quan hóa các từ quan trọng nhất theo TF-IDF\n",
    "plot_tfidf_matrix(X, module_count_vector.get_feature_names_out(), n_top_features=15)\n",
    "\n",
    "# Kiểm tra vector của một văn bản cụ thể\n",
    "sample_index = 100\n",
    "print(f\"\\nVector của văn bản thứ {sample_index}:\")\n",
    "print(X[sample_index].toarray())\n",
    "\n",
    "print(f\"Chủ đề của văn bản thứ {sample_index}: {Y[sample_index]}\")\n"
   ]
  },
  {
   "cell_type": "markdown",
   "id": "1579b22a-60db-421f-bfc1-6b8235ec6e1a",
   "metadata": {},
   "source": [
    "# GIẢI THÍCH KẾT QUẢ\n",
    "Kết quả nhận được là hợp lý và đúng với yêu cầu, dưới đây là một số phân tích chi tiết:\n",
    "\n",
    "## 1. Số lượng stopwords: 2063\n",
    "\n",
    "    + Đây là số lượng từ dừng (stopwords) mà bạn đã loại bỏ khi xử lý văn bản. Đúng như yêu cầu, bạn đã đọc và xử lý danh sách stopwords từ tệp \"vietnamese-stopwords.txt\", và loại bỏ các từ này khi xây dựng từ điển cho các văn bản.\n",
    "    \n",
    "## 2. Số lượng từ trong từ điển: 12796\n",
    "    + Đây là số lượng từ độc nhất (distinct terms) trong từ điển của mô hình sau khi loại bỏ stopwords. Dữ liệu này cho thấy rằng từ điển của bạn bao gồm 12,796 từ, và mỗi văn bản trong tập huấn luyện có thể chứa một hoặc nhiều trong số những từ này. Đây là một con số hợp lý với nhiều văn bản và chủ đề khác nhau.\n",
    "    \n",
    "## 3. Kích thước dữ liệu sau khi xử lý: (1339, 12796)\n",
    "    + Kích thước này cho thấy bạn có tổng cộng 1339 văn bản, mỗi văn bản được mã hóa dưới dạng một vector có 12796 chiều (tương ứng với số lượng từ trong từ điển). Đây là kết quả mong đợi và cho thấy dữ liệu đã được chuyển đổi đúng từ dạng văn bản thành dạng số với số lượng tính năng đúng.\n",
    "    \n",
    "## 4. Vector của văn bản thứ 100: [[0. ... 0.14048828 ... 0.]]\n",
    "    + Đây là vector TF-IDF của văn bản thứ 100. Các giá trị khác 0 trong vector này là các từ có xuất hiện trong văn bản đó, và giá trị 0.14048828 là TF-IDF của từ đó trong văn bản. Điều này chứng tỏ rằng bạn đã áp dụng thành công phương pháp TF-IDF để mã hóa văn bản thành vector.\n",
    "    + Việc vector có rất nhiều giá trị 0 là bình thường, vì không phải tất cả các từ trong từ điển đều xuất hiện trong mỗi văn bản.\n",
    "    \n",
    "## 5. Chủ đề của văn bản thứ 100: 5\n",
    "    + Đây là nhãn (chủ đề) của văn bản thứ 100. Mỗi văn bản được phân loại vào một trong 10 chủ đề, và chủ đề của văn bản thứ 100 là 5. Nhãn này có thể tương ứng với một trong các chủ đề mà bạn đã phân loại trong tập dữ liệu, ví dụ \"Kinh tế\", \"Pháp luật\", v.v.\n",
    "## Tóm lại:\n",
    "Kết quả nhận được là hợp lý và đúng với yêu cầu ban đầu. Đã thực hiện thành công việc mã hóa văn bản thành vector số bằng phương pháp TF-IDF, loại bỏ các stopwords, và chuyển đổi dữ liệu thành một dạng có thể sử dụng cho các mô hình học máy tiếp theo (như phân loại)."
   ]
  },
  {
   "cell_type": "code",
   "execution_count": null,
   "id": "ce9711b1-d2d2-44c9-ab18-32c23897eb6e",
   "metadata": {},
   "outputs": [],
   "source": []
  }
 ],
 "metadata": {
  "kernelspec": {
   "display_name": "Python 3 (ipykernel)",
   "language": "python",
   "name": "python3"
  },
  "language_info": {
   "codemirror_mode": {
    "name": "ipython",
    "version": 3
   },
   "file_extension": ".py",
   "mimetype": "text/x-python",
   "name": "python",
   "nbconvert_exporter": "python",
   "pygments_lexer": "ipython3",
   "version": "3.12.3"
  }
 },
 "nbformat": 4,
 "nbformat_minor": 5
}
